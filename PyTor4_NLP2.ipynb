{
 "cells": [
  {
   "cell_type": "markdown",
   "id": "d6174507-741b-4174-8668-ddc74a2b67f7",
   "metadata": {},
   "source": [
    "# *Задача #2*\n",
    "По данным из соревнования: https://www.kaggle.com/competitions/nlp-txt-classification/data \n",
    "(https://www.kaggle.com/t/9bb00c50204b4413ac229e3165837dac)\n",
    "1) Сделайте EDA. \n",
    "\n",
    "-2) Придумайте эвристику для предсказания целевого класса. На данном этапе нельзя использовать ML, допускаются исключительно наивные методы. \n",
    "\n",
    "-3) Реализуйте один из методов векторизации текста и обучите одну из моделей классического ML для данной задачи. Можно использовать любые библиотеки. \n",
    "\n",
    "-4) Предложите метрику, разбейте обучающую выборку на обучающую и валидационную и посчитайте её значение для методов, реализованных в пункте 2 и 3.\n",
    "\n",
    "(-сделано в прошлой части дз, в этом ноутбуке не представлено)\n",
    "\n",
    "# *Задача #2*\n",
    "1) Обучите несколько моделей рекуррентных нейронных сетей, например LSTM, GRU, Bidirectional-LSTM.\n",
    "2) Посчитайте значение метрики, которую вы предложили в части 1 и сравните результаты для разных RNN, эвристик и классического ML.\n",
    "\n",
    "# *Подсказки:*\n",
    "* При работе с RNN можно экспериментировать не только с типом слоя, но и с гиперпараметрами.\n",
    "* «Сравнить результаты» означает не просто посчитать метрику для разных методов, но и сделать вывод о том, что сработало лучше\n",
    "* Не забудьте реализовать валидационную выборку и на ней отследить, что модель не переобучилась.\n",
    "\n",
    "# *Результат:*\n",
    "Jupyter-notebook с реализацией требуемых методов.\n",
    "\n",
    "Эту часть проекта мы будем оценивать по тем же критериям:\n",
    "\n",
    "* Полнота выполненной работы;\n",
    "* Общее качество кода и следование PEP-8;\n",
    "* Итоговое значение метрики качества.\n",
    "  ________________________________________________________________________________________________________________\n",
    "\n",
    "# **Критерий 1. Полнота выполненной работы**\n",
    "* **Вариант 1**\tРеализовано несколько вариантов RNN с разными гиперпараметрами и разными типами слоёв. Посчитаны метрики, есть выводы касательно того, что лучше сработало. -- 20 баллов\n",
    "* **Вариант 2**\tРеализовано несколько вариантов RNN, но не проведены эксперименты с разными гиперпараметрами или с разными типами слоёв. Посчитаны метрики, есть выводы касательно того, что лучше сработало. -- 15 баллов\n",
    "* **Вариант 3**\tРеализовано только один вариант RNN, но метрика посчитана и есть сравнение с методами и части один. -- 9 баллов\n",
    "* **Вариант 4**\tМетрики не посчитаны. -- 4 балла\n",
    " \n",
    "# **Критерий 2. Общее качество кода и следование PEP-8**\n",
    "* **Вариант 1**\tПонятная структура ноутбука, код соответствует PEP-8 и логически разделён по ячейкам. -- 20 баллов\n",
    "* **Вариант 2**\tПонятная структура ноутбука, код местами не соответствует PEP-8, но логически разделён по ячейкам. -- 15 баллов\n",
    "* **Вариант 3**\tПонятная структура ноутбука, код сильно не соответствует PEP-8, в одной ячейке могут выполняться разные логические операции. -- 9 баллов\n",
    "* **Вариант 4**\tПлохая структура, непонятно какая ячейка какую задачу решает, код нечитаем.\t4 балла\n",
    "  \n",
    "# **Критерий 3. Метрика**\n",
    "* **Вариант 1**\taccuracy >= 70% -- 10 баллов\n",
    "* **Вариант 2**\t60% <= accuracy < 70% -- 7 баллов\n",
    "* **Вариант 3**\taccuracy < 60% -- 1 балл"
   ]
  },
  {
   "cell_type": "code",
   "execution_count": 1,
   "id": "6db0a215-208b-4846-998e-b6031dc55b1e",
   "metadata": {},
   "outputs": [
    {
     "name": "stderr",
     "output_type": "stream",
     "text": [
      "C:\\Users\\alina\\anaconda3\\envs\\py3_9_tor4_1_9_0\\lib\\site-packages\\tqdm\\auto.py:21: TqdmWarning: IProgress not found. Please update jupyter and ipywidgets. See https://ipywidgets.readthedocs.io/en/stable/user_install.html\n",
      "  from .autonotebook import tqdm as notebook_tqdm\n"
     ]
    }
   ],
   "source": [
    "# Здесь все необходимые импорты для выполнения ДЗ\n",
    "import pandas as pd  # для работы с датафреймами\n",
    "import numpy as np  # для обработки данных\n",
    "import matplotlib.pyplot as plt  # для графиков и диаграмм\n",
    "import seaborn as sns  # для визуализации\n",
    "import re  # для очистки текста\n",
    "import spacy  # для токенизации текста с использованием spacy\n",
    "import nltk\n",
    "from nltk.corpus import stopwords\n",
    "from nltk.stem import WordNetLemmatizer\n",
    "from bs4 import BeautifulSoup  # для очистки текста от HTML\n",
    "from collections import Counter, defaultdict  # для подсчета уникальных элементов и частот слов\n",
    "from tqdm import tqdm  # для прогресс-бара\n",
    "from sklearn.preprocessing import LabelEncoder\n",
    "from sklearn.metrics import classification_report, accuracy_score  # для оценки качества\n",
    "from sklearn.model_selection import train_test_split\n",
    "\n",
    "# PyTorch и TorchText для работы с текстовыми данными\n",
    "import torch\n",
    "from torchtext.legacy import data\n",
    "from torchtext.legacy.data import TabularDataset\n",
    "from torchtext.legacy.data import Field, LabelField, BucketIterator\n",
    "from torchtext.vocab import GloVe\n",
    "from torch.utils.data import Dataset, DataLoader\n",
    "from torch.nn.utils.rnn import pad_sequence\n",
    "\n",
    "# Для настройки модели и работы с ней\n",
    "import torch.nn as nn\n",
    "import torch.optim as optim\n",
    "import torch.backends.cudnn as cudnn\n",
    "from torch.optim.lr_scheduler import CyclicLR"
   ]
  },
  {
   "cell_type": "code",
   "execution_count": 2,
   "id": "0c50ae97-6093-4b27-8fb0-a75e84045d29",
   "metadata": {},
   "outputs": [
    {
     "name": "stderr",
     "output_type": "stream",
     "text": [
      "[nltk_data] Downloading package stopwords to\n",
      "[nltk_data]     C:\\Users\\alina\\AppData\\Roaming\\nltk_data...\n",
      "[nltk_data]   Unzipping corpora\\stopwords.zip.\n",
      "[nltk_data] Downloading package wordnet to\n",
      "[nltk_data]     C:\\Users\\alina\\AppData\\Roaming\\nltk_data...\n",
      "[nltk_data] Downloading package omw-1.4 to\n",
      "[nltk_data]     C:\\Users\\alina\\AppData\\Roaming\\nltk_data...\n"
     ]
    },
    {
     "data": {
      "text/plain": [
       "True"
      ]
     },
     "execution_count": 2,
     "metadata": {},
     "output_type": "execute_result"
    }
   ],
   "source": [
    "nltk.download('stopwords')\n",
    "nltk.download('wordnet')\n",
    "nltk.download('omw-1.4')"
   ]
  },
  {
   "cell_type": "code",
   "execution_count": 3,
   "id": "15de171f-39a2-4951-8624-46af91e8eb50",
   "metadata": {},
   "outputs": [],
   "source": [
    "# Загрузка модели Spacy\n",
    "nlp = spacy.load(\"en_core_web_sm\")"
   ]
  },
  {
   "cell_type": "code",
   "execution_count": 4,
   "id": "19cd9301-d763-4692-8a51-12e7f9221fc9",
   "metadata": {},
   "outputs": [],
   "source": [
    "# Лемматизация и стоп-слова\n",
    "lemmatizer = WordNetLemmatizer()\n",
    "stop_words = set(stopwords.words('english'))"
   ]
  },
  {
   "cell_type": "markdown",
   "id": "19fe17ff-dd2b-4f0a-ad69-24a47cf9a06b",
   "metadata": {},
   "source": [
    "# **Этап 1: Подготовка данных и предварительная обработка на PyTorch (с использованием Spacy и TorchText)**"
   ]
  },
  {
   "cell_type": "code",
   "execution_count": 5,
   "id": "779006f4-ef84-475a-8340-cbc1e26208e0",
   "metadata": {},
   "outputs": [],
   "source": [
    "SEED = 42\n",
    "torch.manual_seed(SEED)\n",
    "cudnn.deterministic = True  # для воспроизводимости"
   ]
  },
  {
   "cell_type": "code",
   "execution_count": 6,
   "id": "18450d53-17e5-4246-933b-6513bea3b2c8",
   "metadata": {},
   "outputs": [],
   "source": [
    "# Загрузка данных\n",
    "train_data = pd.read_csv('ml-bio-2024/train.csv')"
   ]
  },
  {
   "cell_type": "code",
   "execution_count": 7,
   "id": "aef40631-5e93-4d9a-bab5-fd4e3e3eb1e8",
   "metadata": {},
   "outputs": [
    {
     "data": {
      "text/html": [
       "<div>\n",
       "<style scoped>\n",
       "    .dataframe tbody tr th:only-of-type {\n",
       "        vertical-align: middle;\n",
       "    }\n",
       "\n",
       "    .dataframe tbody tr th {\n",
       "        vertical-align: top;\n",
       "    }\n",
       "\n",
       "    .dataframe thead th {\n",
       "        text-align: right;\n",
       "    }\n",
       "</style>\n",
       "<table border=\"1\" class=\"dataframe\">\n",
       "  <thead>\n",
       "    <tr style=\"text-align: right;\">\n",
       "      <th></th>\n",
       "      <th>Unnamed: 0</th>\n",
       "      <th>Text</th>\n",
       "      <th>Sentiment</th>\n",
       "    </tr>\n",
       "  </thead>\n",
       "  <tbody>\n",
       "    <tr>\n",
       "      <th>0</th>\n",
       "      <td>0</td>\n",
       "      <td>@MeNyrbie @Phil_Gahan @Chrisitv https://t.co/i...</td>\n",
       "      <td>Neutral</td>\n",
       "    </tr>\n",
       "    <tr>\n",
       "      <th>1</th>\n",
       "      <td>1</td>\n",
       "      <td>advice Talk to your neighbours family to excha...</td>\n",
       "      <td>Positive</td>\n",
       "    </tr>\n",
       "    <tr>\n",
       "      <th>2</th>\n",
       "      <td>2</td>\n",
       "      <td>Coronavirus Australia: Woolworths to give elde...</td>\n",
       "      <td>Positive</td>\n",
       "    </tr>\n",
       "    <tr>\n",
       "      <th>3</th>\n",
       "      <td>3</td>\n",
       "      <td>My food stock is not the only one which is emp...</td>\n",
       "      <td>Positive</td>\n",
       "    </tr>\n",
       "    <tr>\n",
       "      <th>4</th>\n",
       "      <td>4</td>\n",
       "      <td>Me, ready to go at supermarket during the #COV...</td>\n",
       "      <td>Extremely Negative</td>\n",
       "    </tr>\n",
       "  </tbody>\n",
       "</table>\n",
       "</div>"
      ],
      "text/plain": [
       "  Unnamed: 0                                               Text  \\\n",
       "0          0  @MeNyrbie @Phil_Gahan @Chrisitv https://t.co/i...   \n",
       "1          1  advice Talk to your neighbours family to excha...   \n",
       "2          2  Coronavirus Australia: Woolworths to give elde...   \n",
       "3          3  My food stock is not the only one which is emp...   \n",
       "4          4  Me, ready to go at supermarket during the #COV...   \n",
       "\n",
       "            Sentiment  \n",
       "0             Neutral  \n",
       "1            Positive  \n",
       "2            Positive  \n",
       "3            Positive  \n",
       "4  Extremely Negative  "
      ]
     },
     "execution_count": 7,
     "metadata": {},
     "output_type": "execute_result"
    }
   ],
   "source": [
    "# Ознакомимся с первыми строками данных из train.csv\n",
    "train_data.head()"
   ]
  },
  {
   "cell_type": "code",
   "execution_count": 8,
   "id": "9ed4c138-ee48-4baf-bb28-13165d0b9075",
   "metadata": {},
   "outputs": [
    {
     "name": "stdout",
     "output_type": "stream",
     "text": [
      "Проверка на пропущенные значения в данных (train):\n",
      "Unnamed: 0    1\n",
      "Text          1\n",
      "Sentiment     4\n",
      "dtype: int64\n"
     ]
    }
   ],
   "source": [
    "# Проверка на пропущенные значения\n",
    "print(\"Проверка на пропущенные значения в данных (train):\")\n",
    "print(train_data.isnull().sum())"
   ]
  },
  {
   "cell_type": "code",
   "execution_count": 9,
   "id": "abe75d56-d866-4cf8-8057-7a23fa30cc8f",
   "metadata": {},
   "outputs": [],
   "source": [
    "# Обработка пропущенных значений в классе меток\n",
    "train_data = train_data.dropna(subset=['Sentiment'])  # Удаляем строки с NaN в метках"
   ]
  },
  {
   "cell_type": "code",
   "execution_count": 10,
   "id": "18d942ab-bd4d-4f2b-9f62-08603bb2e866",
   "metadata": {},
   "outputs": [
    {
     "name": "stdout",
     "output_type": "stream",
     "text": [
      "Уникальные классы в данных:\n",
      "['Neutral' 'Positive' 'Extremely Negative' 'Negative' 'Extremely Positive']\n"
     ]
    }
   ],
   "source": [
    "# Посмотрим уникальные классы в данных\n",
    "print(\"Уникальные классы в данных:\")\n",
    "print(train_data['Sentiment'].unique())"
   ]
  },
  {
   "cell_type": "code",
   "execution_count": 11,
   "id": "579467c0-c9a0-43d1-a214-40d40f288ed7",
   "metadata": {},
   "outputs": [],
   "source": [
    "# Функция для очистки текста: удаление ссылок, упоминаний, символов, эмодзи, лемматизация, удаление стоп-слов и приведение в нижний регистр\n",
    "def clean_text(text):\n",
    "    # Регулярные выражения для различных элементов\n",
    "    emojis = r'[\\U0001F600-\\U0001F64F\\U0001F300-\\U0001F5FF\\U0001F680-\\U0001F6FF\\U0001F1E0-\\U0001F1FF]'\n",
    "    non_ASCII = r'[^\\x00-\\x7F]+'  # Не-ASCII символы\n",
    "    mentions = r'@\\w+'  # Упоминания\n",
    "    urls = r'http\\S+'  # Ссылки\n",
    "    punctuation = r'[.,#!$%&\\*;:{}=\\-_`~()]'  # Знаки пунктуации\n",
    "    punctuation_space = r'[\\\\/]'  # Замена специальных символов на пробелы\n",
    "    whitespace = r'\\s+'  # Лишние пробелы\n",
    "\n",
    "    # Удаление HTML элементов, если они присутствуют\n",
    "    soup = BeautifulSoup(text, 'html.parser')\n",
    "    text = soup.get_text()\n",
    "\n",
    "    # Удаление не-ASCII символов\n",
    "    text = re.sub(non_ASCII, ' ', text)\n",
    "    # Удаление эмодзи\n",
    "    text = re.sub(emojis, ' ', text)\n",
    "    # Удаление упоминаний\n",
    "    text = re.sub(mentions, '', text)\n",
    "    # Удаление ссылок\n",
    "    text = re.sub(urls, '', text)\n",
    "    # Удаление знаков пунктуации\n",
    "    text = re.sub(punctuation, '', text)\n",
    "    # Замена символов пунктуации на пробелы\n",
    "    text = re.sub(punctuation_space, ' ', text)\n",
    "    # Удаление лишних пробелов\n",
    "    text = re.sub(whitespace, ' ', text).strip()\n",
    "\n",
    "    # Приведение текста к нижнему регистру\n",
    "    text = text.lower()\n",
    "\n",
    "    # Лемматизация и удаление стоп-слов\n",
    "    words = text.split()\n",
    "    words = [lemmatizer.lemmatize(word) for word in words if word not in stop_words]\n",
    "    \n",
    "    return ' '.join(words)"
   ]
  },
  {
   "cell_type": "code",
   "execution_count": 12,
   "id": "bfb98898-e300-4d45-bd33-0dd1374f467e",
   "metadata": {},
   "outputs": [
    {
     "name": "stderr",
     "output_type": "stream",
     "text": [
      "C:\\Users\\alina\\AppData\\Local\\Temp\\ipykernel_7576\\3418211971.py:13: MarkupResemblesLocatorWarning: The input looks more like a filename than markup. You may want to open this file and pass the filehandle into Beautiful Soup.\n",
      "  soup = BeautifulSoup(text, 'html.parser')\n",
      "C:\\Users\\alina\\AppData\\Local\\Temp\\ipykernel_7576\\3418211971.py:13: MarkupResemblesLocatorWarning: The input looks more like a URL than markup. You may want to use an HTTP client like requests to get the document behind the URL, and feed that document to Beautiful Soup.\n",
      "  soup = BeautifulSoup(text, 'html.parser')\n"
     ]
    },
    {
     "name": "stdout",
     "output_type": "stream",
     "text": [
      "Первые строки данных после очистки текста:\n",
      "                                                Text  \\\n",
      "0  @MeNyrbie @Phil_Gahan @Chrisitv https://t.co/i...   \n",
      "1  advice Talk to your neighbours family to excha...   \n",
      "2  Coronavirus Australia: Woolworths to give elde...   \n",
      "3  My food stock is not the only one which is emp...   \n",
      "4  Me, ready to go at supermarket during the #COV...   \n",
      "\n",
      "                                        cleaned_text  \n",
      "0                                                     \n",
      "1  advice talk neighbour family exchange phone nu...  \n",
      "2  coronavirus australia woolworth give elderly d...  \n",
      "3  food stock one empty please panic enough food ...  \n",
      "4  ready go supermarket covid19 outbreak i'm para...  \n"
     ]
    }
   ],
   "source": [
    "# Преобразуем все значения в столбце 'Text' в строки, чтобы избежать ошибки\n",
    "train_data['Text'] = train_data['Text'].astype(str)\n",
    "\n",
    "# Теперь можно применить функцию очистки текста\n",
    "train_data['cleaned_text'] = train_data['Text'].apply(clean_text)\n",
    "\n",
    "# Просмотр первых строк очищенного текста\n",
    "print(\"Первые строки данных после очистки текста:\")\n",
    "print(train_data[['Text', 'cleaned_text']].head())"
   ]
  },
  {
   "cell_type": "code",
   "execution_count": 13,
   "id": "812bd6d9-7a2c-43c3-9e4c-c02b91564c7e",
   "metadata": {},
   "outputs": [
    {
     "name": "stdout",
     "output_type": "stream",
     "text": [
      "Проверка на пропущенные значения в данных (train):\n",
      "Unnamed: 0      0\n",
      "Text            0\n",
      "Sentiment       0\n",
      "cleaned_text    0\n",
      "dtype: int64\n"
     ]
    }
   ],
   "source": [
    "# Проверка на пропущенные значения\n",
    "print(\"Проверка на пропущенные значения в данных (train):\")\n",
    "print(train_data.isnull().sum())"
   ]
  },
  {
   "cell_type": "code",
   "execution_count": 14,
   "id": "c39c072e-4536-4e93-a2cc-f4971d648ed8",
   "metadata": {},
   "outputs": [],
   "source": [
    "# Кодирование целевой переменной\n",
    "label_encoder = LabelEncoder()\n",
    "train_data['Sentiment'] = label_encoder.fit_transform(train_data['Sentiment'])\n",
    "num_classes = train_data['Sentiment'].nunique()"
   ]
  },
  {
   "cell_type": "code",
   "execution_count": 15,
   "id": "a2e9675c-406a-4041-bea6-899f443ac470",
   "metadata": {},
   "outputs": [
    {
     "name": "stdout",
     "output_type": "stream",
     "text": [
      "Размер обучающей выборки: 29631\n",
      "Размер валидационной выборки: 3293\n",
      "Размер тестовой выборки: 8231\n"
     ]
    }
   ],
   "source": [
    "# Разделение данных на обучающую, валидационную и тестовую выборки\n",
    "X = train_data['cleaned_text']\n",
    "y = train_data['Sentiment']\n",
    "\n",
    "# Разделение данных на обучающую и тестовую выборки\n",
    "X_train_val, X_test, y_train_val, y_test = train_test_split(\n",
    "    X, y, test_size=0.2, random_state=SEED, stratify=y\n",
    ")\n",
    "\n",
    "# Разделение данных на обучающую и валидационную выборки\n",
    "X_train, X_val, y_train, y_val = train_test_split(\n",
    "    X_train_val, y_train_val, test_size=0.1, random_state=SEED, stratify=y_train_val\n",
    ")\n",
    "\n",
    "print(f\"Размер обучающей выборки: {len(X_train)}\")\n",
    "print(f\"Размер валидационной выборки: {len(X_val)}\")\n",
    "print(f\"Размер тестовой выборки: {len(X_test)}\")"
   ]
  },
  {
   "cell_type": "code",
   "execution_count": 16,
   "id": "86bcf5d7-7d51-43b5-ae70-432eab240b13",
   "metadata": {},
   "outputs": [],
   "source": [
    "# Функция токенизации с использованием Spacy\n",
    "def tokenize_spacy(text):\n",
    "    return [token.text for token in nlp(text)]"
   ]
  },
  {
   "cell_type": "code",
   "execution_count": 17,
   "id": "bafda5ab-1c89-40cf-bf86-37b86195f2e1",
   "metadata": {},
   "outputs": [],
   "source": [
    "# Преобразование данных для TorchText с использованием Spacy\n",
    "TEXT = Field(tokenize=tokenize_spacy, include_lengths=True, lower=True, batch_first=True)\n",
    "LABEL = LabelField(dtype=torch.long, batch_first=True)\n",
    "\n",
    "fields = [('Text', TEXT), ('Sentiment', LABEL)]"
   ]
  },
  {
   "cell_type": "code",
   "execution_count": 18,
   "id": "a9d6d59e-4aa2-4737-9490-3fa0a4901b8d",
   "metadata": {},
   "outputs": [
    {
     "name": "stdout",
     "output_type": "stream",
     "text": [
      "Сохранение данных в файлы...\n"
     ]
    },
    {
     "name": "stderr",
     "output_type": "stream",
     "text": [
      "100%|███████████████████████████████████████████████████████████████████████████████████████████████| 2/2 [00:00<00:00, 18.87it/s]"
     ]
    },
    {
     "name": "stdout",
     "output_type": "stream",
     "text": [
      "Файлы сохранены успешно.\n"
     ]
    },
    {
     "name": "stderr",
     "output_type": "stream",
     "text": [
      "\n"
     ]
    }
   ],
   "source": [
    "# Создание датасетов\n",
    "print(\"Сохранение данных в файлы...\")\n",
    "\n",
    "train_data = pd.DataFrame({'Text': X_train, 'Sentiment': y_train})\n",
    "val_data = pd.DataFrame({'Text': X_val, 'Sentiment': y_val})\n",
    "\n",
    "# Сохраняем данные в CSV-файлы с использованием tqdm\n",
    "for dataset, filename in tqdm(zip([train_data, val_data], ['train.csv', 'valid.csv']), total=2):\n",
    "    dataset.to_csv(filename, index=False)\n",
    "\n",
    "print(\"Файлы сохранены успешно.\")"
   ]
  },
  {
   "cell_type": "code",
   "execution_count": 19,
   "id": "52317a74-e262-441c-a5b2-23f9e8e0f389",
   "metadata": {},
   "outputs": [],
   "source": [
    "# Определение кастомного датасета для использования с DataLoader\n",
    "class CustomDataset(Dataset):\n",
    "    def __init__(self, dataframe, text_field, label_field):\n",
    "        self.data = dataframe\n",
    "        self.text_field = text_field\n",
    "        self.label_field = label_field\n",
    "\n",
    "    def __len__(self):\n",
    "        return len(self.data)\n",
    "\n",
    "    def __getitem__(self, idx):\n",
    "        text = self.data.iloc[idx][self.text_field]\n",
    "        label = self.data.iloc[idx][self.label_field]\n",
    "        return text, label"
   ]
  },
  {
   "cell_type": "code",
   "execution_count": 20,
   "id": "b8ecee51-e32e-45dd-8bc6-5ede62a5fc98",
   "metadata": {},
   "outputs": [],
   "source": [
    "# Используем созданные ранее train_data и val_data\n",
    "train_dataset = CustomDataset(train_data, 'Text', 'Sentiment')\n",
    "valid_dataset = CustomDataset(val_data, 'Text', 'Sentiment')"
   ]
  },
  {
   "cell_type": "code",
   "execution_count": 21,
   "id": "d6d5e5c9-6566-4883-b113-7e34b3368324",
   "metadata": {},
   "outputs": [],
   "source": [
    "# Создание DataLoader для батчевой загрузки данных\n",
    "BATCH_SIZE = 64  # Размер батча\n",
    "train_loader = DataLoader(train_dataset, batch_size=BATCH_SIZE, shuffle=True)\n",
    "valid_loader = DataLoader(valid_dataset, batch_size=BATCH_SIZE, shuffle=False)"
   ]
  },
  {
   "cell_type": "code",
   "execution_count": 22,
   "id": "2af551bc-403a-40bc-b23d-eb83c9a9ffed",
   "metadata": {},
   "outputs": [
    {
     "name": "stdout",
     "output_type": "stream",
     "text": [
      "Размер train_loader: 463\n",
      "Размер valid_loader: 52\n"
     ]
    }
   ],
   "source": [
    "# Проверка загрузки данных\n",
    "print(f\"Размер train_loader: {len(train_loader)}\")\n",
    "print(f\"Размер valid_loader: {len(valid_loader)}\")"
   ]
  },
  {
   "cell_type": "code",
   "execution_count": 23,
   "id": "f4127c4b-7e7c-4e6f-b4b5-a831f488ec8d",
   "metadata": {},
   "outputs": [
    {
     "name": "stdout",
     "output_type": "stream",
     "text": [
      "Пример батча текстов: (\"mow golf course etc still can't open butcher bakery though yeah yeah draw line keep line way till supermarket\", 'make home made hand sanitizer effective coronavirus trending news cbsnews', 'got work supermarket sooo bare apparently hell staff day queue door opening time coronavirus covid19', 'link deal situation thread covid19 lockdown guide manage anxiety isolation quarantine covid19 mentalhealthmatters', 'time go know restriction get harder remember anyone household show symptom may covid19 must stay home one go supermarket walk everyone stay follows rule', \"uganda's govt done well resolve nearly sticky issue kept oil industry deadlock however emergence covid19 collapse global oil price cut back capital spend oil company certainly delay uganda's first oil\", 'grocery store dmv set specific hour date dedicated senior protect exposure large group people coronavirusoutbreak getupdc', 'many older adult neighbor may experiencing loneliness anxiety mental health need crisis older adult hotlines additional resource free meal priority testing special grocery store hour found', 'focal person 19 hyd mpa presided meeting dc hyd ghaffar soomro amp sp hyd adeel chandio examined overall situation created corona virus instructed dc hyd look retail price n facilitate ppl regard', 'apply tip ensure online grocery shopping covid 19 free', \"we've posted list coronavirusrelated online scam we've heard check aware\", 'hi know covid19 affecting lot people included job university closed struggling money willing haggle price commission anything would help commission covid19 support', 'thank email explaining 70> vulnerable come store today first hour disabled rely online shopping still slot book why? available? coronavirus corona', 'people iraq kurdistan region survive coronavirus crisis everything go closed? border airport city locked financial crisis oil price low salary unpaid yet could people buy food need pay rent survive?', 'life 2020 quarantinediaries via ??fun2020diaries different color great gift anyone quarantinelife journaling coronavirus journal quarantine quarantineactivities coronapandemie diary quarantinebirthday toiletpaper', 'hoarding unavailability food store due covid19 coronavirus panic get bring emergency food ration lasvegas? people need food others enough wait lockdown quaran', 'famous mall mall emirate dubai mall transforming fulfillment center worker work throughout night keep online order amid outbreak', 'vigilant consumer japan public shaming company social medium tried raise price good face mask coronavirus consumer japan mrx', 'trivia covid 19 x crude oil price since january spreading coronavirus covid 19 cause global stock market plunging impair postitive momentum oil price past four month', 'consumer spending big part gdp think affect economy? economic effect covid19 catastrophic vshaped recovery', 'work spring break summer break centric retail store confirm bulk customer coming last fridaytuesday morning vacationer usual bulk shopping day college kid despite information', 'go looking thing ever known toiletpaper coronavirus', 'please stop abusing checkout operator set limit purchase stupidity coronavirusupdate coronavirus stoppanicbuying', 'trump touting malaria drug cure illustrate end practice direct consumer drug marketing', 'goal 1?? love neighbor 2?? give free toiletpaper 3?? make proud coronavirus covid19', 'walmart sued family worker killed coronavirus nbcnews coronavirus covid19 coronacrisis walmart', 'due increased demand locally grown produced food presented covid 19 many csa program filled quickly several local farm actively working increasing capacity evolving list', 'spread attitude prioritizing good one liberty freedom good many hand sanitizer polite govt update change selfishness quickly enough covid?19 coronaviruspandemic coronavirus covidbc', 'today went supermarket buy groat pasta remained shelf covid2019', \"thursday's grocery store flyer threeply toilet tissue 344 there's sure lineup coronavirus\", 'economic injustice look healthcare assistant job ad around covid 19 offering 20 hour ceo supermarket industry earn million already access wealth covid 19 even started everyone deserves liveable income', 'item collected thursdaysaturday trop include include mask face shield glove safety glass goggles tearaway gown hand sanitizer wipe water nonperishable food item coronavirus raysup ray medical', 'vulnerable people still struggling get access online supermarket slot scottish government yet shared information make possible pleased see coverage', 'commission working area interest european identifying impact various area policy measure area consumer protection eu level thank prompt action', 'mcdonald said outbreak coronavirus reversed strong sale growth prompting world largest fastfood chain withdraw revenue forecast year result', 'emerge crisis critical marketer adapt evolving consumer value find brand prepared guideline action success brandstrategy brandpostitioning consumervalues consumerdemands', 'story empty supermarket shelf people duelling loo roll paint bleak image humanity covid 19 outbreak people want pull together help social distancing becomes norm 10 way boost solidarity', 'taking life frontline worker grocery store least five employee supermarket chain died virus including two chicago area', 'ok queuing 2m apart one another shop essential thick individual invading personal space breathing neck supermarket extremely counter productive covid19', 'even sending covid19 advisory citizen telling case confirmed area \"the corona virus map\" even showed recently confirmed case certain place bus station pharmacy supermarket sbwl', \"happy mother's day particularly looking u difficult time mothersday coronavirus nhscovidheroes remember bekind stretch neighbour might vulnerable less able buy necessity supermarket worker\", 'covid 19 become business chemist early action required selling mask n sanitizers high price poor people afford', 'covid19 pandemic distribution surgical n95 mask also sale distribution hand sanitizers liquid soap make item available public large reasonable price helpline provided', 'footpath supermarket sure crowded today socialdistancing canberra easterweekend covid19 @ canberra australian capital territory', \"new jersey gov phil murphy ordering bar restaurant shut effective 8pm today except takeout food smlr's ashley conway talk what's ahead business employee coronavirusnj njcoronavirus\", 'given supermarket situation increased time got hand thought try making pasta scratch ? surprisingly turned superyummy really good fun ??? coronavirus', 'covid 19 shopping mall supermarket meanwhile prepare something ready kahahahh', 'american supermarket covid19', 'greek gov announces change supermarket hour sunday opening', 'hunger virus kill 8000 child day worry toilet roll pasta supermarket? coronavirus', 'since threat coronavirus covid 19 immediately notice stopped accepting walk customer rest assured remain committed encouraging use available mean contacting consumer affair unit', 'salvation army food bank say seeing drastic decline nonperishable monetary donation demand rise due novel coronavirus gpab countyofgp', 'nice surprise coronavirus toiletpaper toiletpaperpanic webcomics comic comicstrip comicsforquarantine', 'breaking story online clothes shopping rise people find mysterious white patch forming clothes quarantinelife coronavirusoutbreak coronavirus imadethisup fakenews', 'stock price life insurance company safeguard longterm saving insure health mortality risk declined sharply onset covid19 ffinancialadvisors', \"friend told supermarket work cashier whose son exposed covid19 letting call work unless doctor's note positive test business willingly exposing people\", \"coronavirus new zealand government announced full lockdown next 4 week starting 48 hour exception supermarket's essential service\", 'since city closed bunch facility help stop spread covid19 everyone standing around visiting grocery store saw one woman forcibly hugging people unbelievable', \"australia australia 145 gun per 100 person usa 1205 gun per 100 person thanks coronavirus american hoarding food toiletpaper they're also stockpiling gun ammo think people\", 'thing quarantined taught stock house food eat coronavirus quarantinelife', 'supermarket staffer test positive covid19 via', 'behavioural change result outbreak panic buying could lead global food supply crisis un warns', 'supply shopping online stayhomesavelives', 'coronavirus u washing hand using sanitizer ever good hygiene negative impact skin read tip preserving skin keeping virus bay coronavirus dryhands')\n",
      "Пример батча меток: tensor([4, 1, 0, 2, 2, 2, 1, 2, 4, 1, 2, 2, 2, 0, 1, 0, 3, 4, 2, 2, 3, 3, 0, 2,\n",
      "        1, 0, 4, 1, 3, 4, 2, 1, 2, 1, 1, 3, 1, 2, 4, 4, 3, 0, 4, 4, 4, 1, 4, 3,\n",
      "        2, 0, 1, 4, 4, 3, 4, 1, 3, 1, 4, 3, 4, 0, 3, 2], dtype=torch.int32)\n"
     ]
    }
   ],
   "source": [
    "# Пример проверки одного батча данных\n",
    "for batch in train_loader:\n",
    "    texts, labels = batch\n",
    "    print(\"Пример батча текстов:\", texts)\n",
    "    print(\"Пример батча меток:\", labels)\n",
    "    break  # Выводим только один батч для проверки"
   ]
  },
  {
   "cell_type": "code",
   "execution_count": 24,
   "id": "3e3d7062-d8f1-441a-a961-8e1c1009e55e",
   "metadata": {},
   "outputs": [
    {
     "name": "stderr",
     "output_type": "stream",
     "text": [
      ".vector_cache\\glove.6B.zip: 862MB [03:27, 4.16MB/s]                                                                               \n",
      "100%|█████████████████████████████████████████████████████████████████████████████████▉| 399999/400000 [00:11<00:00, 33892.45it/s]\n"
     ]
    }
   ],
   "source": [
    "# Загрузка предобученных векторов GloVe\n",
    "MAX_VOCAB_SIZE = 25_000\n",
    "EMBEDDING_DIM = 100\n",
    "glove = GloVe(name=\"6B\", dim=EMBEDDING_DIM)"
   ]
  },
  {
   "cell_type": "code",
   "execution_count": 25,
   "id": "fe9ad86c-a500-4e13-919c-4751991ae49a",
   "metadata": {},
   "outputs": [],
   "source": [
    "# Функция для построения словаря с прогресс-баром\n",
    "def build_vocab(data, tokenizer, max_vocab_size):\n",
    "    counter = Counter()\n",
    "    print(\"Построение словаря...\")\n",
    "    for text in tqdm(data['Text'], desc=\"Токенизация текста для создания словаря\"):\n",
    "        tokens = tokenizer(text)\n",
    "        counter.update(tokens)\n",
    "    \n",
    "    # Оставляем только самые частотные слова\n",
    "    most_common = counter.most_common(max_vocab_size)\n",
    "    vocab = {word: idx + 2 for idx, (word, _) in enumerate(most_common)}  # Индексы начиная с 2\n",
    "    vocab['<pad>'] = 0  # Специальный токен для padding\n",
    "    vocab['<unk>'] = 1  # Специальный токен для неизвестных слов\n",
    "    \n",
    "    return vocab"
   ]
  },
  {
   "cell_type": "code",
   "execution_count": 26,
   "id": "2d452bab-af23-4cbc-9d4e-02be70bb7dcc",
   "metadata": {},
   "outputs": [
    {
     "name": "stdout",
     "output_type": "stream",
     "text": [
      "Построение словаря...\n"
     ]
    },
    {
     "name": "stderr",
     "output_type": "stream",
     "text": [
      "Токенизация текста для создания словаря: 100%|█████████████████████████████████████████████| 29631/29631 [02:49<00:00, 174.93it/s]\n"
     ]
    }
   ],
   "source": [
    "# Построение словаря с использованием train_data и tokenizer\n",
    "vocab = build_vocab(train_data, tokenize_spacy, MAX_VOCAB_SIZE)"
   ]
  },
  {
   "cell_type": "code",
   "execution_count": 27,
   "id": "c4e5ea76-32be-4e95-83e6-e7e8359316d8",
   "metadata": {},
   "outputs": [],
   "source": [
    "# Функция для создания эмбеддинг-матрицы GloVe\n",
    "def create_embedding_matrix(vocab, glove, embedding_dim):\n",
    "    matrix_len = len(vocab)\n",
    "    weights_matrix = np.zeros((matrix_len, embedding_dim))\n",
    "    \n",
    "    print(\"Создание эмбеддинг-матрицы GloVe...\")\n",
    "    for word, i in tqdm(vocab.items(), desc=\"Создание эмбеддингов для словаря\"):\n",
    "        try:\n",
    "            weights_matrix[i] = glove[word]\n",
    "        except KeyError:\n",
    "            weights_matrix[i] = np.random.normal(scale=0.6, size=(embedding_dim,))\n",
    "    \n",
    "    return torch.tensor(weights_matrix, dtype=torch.float)"
   ]
  },
  {
   "cell_type": "code",
   "execution_count": 28,
   "id": "eecbb22c-b3b1-4099-a6a8-45d81a081a55",
   "metadata": {},
   "outputs": [
    {
     "name": "stdout",
     "output_type": "stream",
     "text": [
      "Создание эмбеддинг-матрицы GloVe...\n"
     ]
    },
    {
     "name": "stderr",
     "output_type": "stream",
     "text": [
      "Создание эмбеддингов для словаря: 100%|█████████████████████████████████████████████████| 25002/25002 [00:00<00:00, 144447.69it/s]\n"
     ]
    }
   ],
   "source": [
    "# Создание эмбеддинг-матрицы с предобученными эмбеддингами GloVe\n",
    "embedding_matrix = create_embedding_matrix(vocab, glove, EMBEDDING_DIM)"
   ]
  },
  {
   "cell_type": "code",
   "execution_count": 29,
   "id": "ba9dcc76-2109-4c0f-9348-7b7ff1d0d027",
   "metadata": {},
   "outputs": [
    {
     "name": "stdout",
     "output_type": "stream",
     "text": [
      "Подготовка данных завершена. Датасеты готовы к использованию.\n",
      "Пример данных: safety number one priority check consumer report uptodate reporting novel coronavirus\n",
      "Токенизация примера: ['safety', 'number', 'one', 'priority', 'check', 'consumer', 'report', 'uptodate', 'reporting', 'novel', 'coronavirus']\n"
     ]
    }
   ],
   "source": [
    "print(\"Подготовка данных завершена. Датасеты готовы к использованию.\")\n",
    "\n",
    "# Пример проверки токенизации\n",
    "print(f\"Пример данных: {train_data['Text'].iloc[0]}\")\n",
    "print(f\"Токенизация примера: {tokenize_spacy(train_data['Text'].iloc[0])}\")"
   ]
  },
  {
   "cell_type": "markdown",
   "id": "708b9f85-a2d3-434d-8a38-7db4fad9ee50",
   "metadata": {},
   "source": [
    "# **Выводы после Этапа 1: Подготовка данных и предварительная обработка**\n",
    "На этом этапе была выполнена ключевая задача по подготовке текстовых данных для дальнейшего использования в модели. Очищенные данные позволили устранить ненужные элементы, такие как эмодзи, ссылки и упоминания, что сделало текст более \"чистым\" и удобным для обработки. Лемматизация и удаление стоп-слов сократили объём информации, сохранив лишь важные слова, что улучшит эффективность обучения модели.\n",
    "\n",
    "Разделение данных на обучающую, валидационную и тестовую выборки гарантирует правильную оценку качества модели. Использование предобученных эмбеддингов GloVe дало модели возможность работать с качественными представлениями слов, что должно положительно сказаться на точности предсказаний. Мы готовы к следующему этапу — построению и обучению модели на подготовленных данных."
   ]
  },
  {
   "cell_type": "markdown",
   "id": "2966ca05-83ed-42b7-95d7-67f3a3c0f371",
   "metadata": {},
   "source": [
    "# **Этап 2: Построение моделей RNN**\n",
    "## **Модель 1: LSTM (Long Short-Term Memory)**\n",
    "LSTM (Long Short-Term Memory) — это тип рекуррентной нейронной сети (RNN), разработанный для решения проблемы \"затухающих градиентов\", которая присуща традиционным RNN. Обычные рекуррентные сети плохо запоминают долгосрочные зависимости в последовательностях, из-за чего их применение ограничено задачами, где важно учитывать контекст на больших временных интервалах.\n",
    "\n",
    "LSTM решает эту проблему благодаря специально разработанной архитектуре с так называемыми \"ячейками памяти\". Эти ячейки могут сохранять информацию на длительные промежутки времени, тем самым обеспечивая лучшее понимание последовательностей, чем классические RNN.\n",
    "\n",
    "Благодаря этой архитектуре LSTM отлично подходит для работы с последовательными данными, такими как тексты, временные ряды, звуковые данные и даже видео. LSTM умеет \"запоминать\" важные элементы последовательностей, игнорируя несущественные данные, что делает их крайне полезными для задач, связанных с обработкой естественного языка, прогнозированием временных рядов и распознаванием речи."
   ]
  },
  {
   "cell_type": "code",
   "execution_count": 90,
   "id": "de2f34e7-51f6-4fd5-bd17-c8d67de87038",
   "metadata": {},
   "outputs": [],
   "source": [
    "# Модель LSTM с использованием предобученных эмбеддингов GloVe\n",
    "class LSTMModel(nn.Module):\n",
    "    def __init__(self, embedding_matrix, hidden_dim, num_classes):\n",
    "        super(LSTMModel, self).__init__()\n",
    "        \n",
    "        # Параметры эмбеддингов\n",
    "        embedding_dim = embedding_matrix.shape[1]\n",
    "        vocab_size = embedding_matrix.shape[0]\n",
    "\n",
    "        # Эмбеддинг-слой инициализируется предобученными весами\n",
    "        self.embedding = nn.Embedding.from_pretrained(\n",
    "            torch.tensor(embedding_matrix, dtype=torch.float32),\n",
    "            freeze=True  # Если True, эмбеддинги не будут обучаться\n",
    "        )\n",
    "\n",
    "        # Обычный LSTM-слой\n",
    "        self.lstm = nn.LSTM(embedding_dim, hidden_dim, batch_first=True)\n",
    "\n",
    "        # Глобальный MaxPooling для выбора важнейших признаков\n",
    "        self.global_max_pooling = nn.AdaptiveMaxPool1d(1)\n",
    "\n",
    "        # Полносвязные слои для классификации\n",
    "        self.fc1 = nn.Linear(hidden_dim, 64)\n",
    "        self.dropout = nn.Dropout(0.3)\n",
    "        self.fc2 = nn.Linear(64, num_classes)\n",
    "\n",
    "    def forward(self, x):\n",
    "        # Пропуск данных через эмбеддинг-слой\n",
    "        x = self.embedding(x)\n",
    "\n",
    "        # Пропуск данных через LSTM\n",
    "        lstm_out, _ = self.lstm(x)\n",
    "\n",
    "        # Применение глобального MaxPooling\n",
    "        lstm_out = lstm_out.permute(0, 2, 1)  # Меняем местами размерности для MaxPooling\n",
    "        pooled_out = self.global_max_pooling(lstm_out).squeeze(2)\n",
    "\n",
    "        # Полносвязные слои\n",
    "        x = self.fc1(pooled_out)\n",
    "        x = torch.relu(x)\n",
    "        x = self.dropout(x)\n",
    "        x = self.fc2(x)\n",
    "\n",
    "        return x"
   ]
  },
  {
   "cell_type": "code",
   "execution_count": 91,
   "id": "05e4f003-13c6-48d2-9231-cc591cc776a8",
   "metadata": {},
   "outputs": [],
   "source": [
    "# Инициализация модели с эмбеддинг-матрицей GloVe\n",
    "hidden_dim = 64  # Размер скрытого слоя LSTM\n",
    "num_classes = 5  # Количество классов"
   ]
  },
  {
   "cell_type": "code",
   "execution_count": 92,
   "id": "95bd6ab1-80c4-4e23-a8dd-ea5c790597b8",
   "metadata": {},
   "outputs": [
    {
     "name": "stderr",
     "output_type": "stream",
     "text": [
      "C:\\Users\\bonda\\AppData\\Local\\Temp\\ipykernel_21060\\3954520365.py:12: UserWarning: To copy construct from a tensor, it is recommended to use sourceTensor.clone().detach() or sourceTensor.clone().detach().requires_grad_(True), rather than torch.tensor(sourceTensor).\n",
      "  torch.tensor(embedding_matrix, dtype=torch.float32),\n"
     ]
    }
   ],
   "source": [
    "model = LSTMModel(embedding_matrix, hidden_dim, num_classes)"
   ]
  },
  {
   "cell_type": "code",
   "execution_count": 93,
   "id": "345239d3-3427-4e24-b758-94e131ec0bc7",
   "metadata": {},
   "outputs": [],
   "source": [
    "# Компиляция модели\n",
    "optimizer = optim.Adam(model.parameters(), lr=0.001)\n",
    "criterion = nn.CrossEntropyLoss()"
   ]
  },
  {
   "cell_type": "code",
   "execution_count": 96,
   "id": "864fabd1-bf10-49c0-996d-630c35a270ce",
   "metadata": {},
   "outputs": [],
   "source": [
    "# Обучение модели\n",
    "def train_model(model, train_loader, criterion, optimizer, num_epochs=5):\n",
    "    model.train()\n",
    "    for epoch in range(num_epochs):\n",
    "        total_loss = 0\n",
    "        for texts, labels in train_loader:\n",
    "            optimizer.zero_grad()\n",
    "\n",
    "            # Преобразуем текстовые данные в последовательности индексов\n",
    "            tokenized_texts = [torch.tensor([vocab.get(word, vocab['<unk>']) for word in text.split()]) for text in texts]\n",
    "            \n",
    "            # Дополняем (padding) до одинаковой длины\n",
    "            texts = pad_sequence(tokenized_texts, batch_first=True, padding_value=vocab['<pad>'])\n",
    "\n",
    "            # Приводим тензоры текста к типу Long\n",
    "            texts = texts.long()\n",
    "\n",
    "            # Пропуск данных через модель\n",
    "            outputs = model(texts)\n",
    "\n",
    "            # Считаем ошибку\n",
    "            loss = criterion(outputs, labels.long())\n",
    "            loss.backward()\n",
    "\n",
    "            # Оптимизация параметров\n",
    "            optimizer.step()\n",
    "\n",
    "            total_loss += loss.item()\n",
    "\n",
    "        print(f'Epoch [{epoch+1}/{num_epochs}], Loss: {total_loss/len(train_loader):.4f}')"
   ]
  },
  {
   "cell_type": "code",
   "execution_count": 97,
   "id": "42145306-5a64-4f73-adb9-aed3f3c7ce4e",
   "metadata": {},
   "outputs": [],
   "source": [
    "# Оценка модели\n",
    "def evaluate_model(model, val_loader, criterion):\n",
    "    model.eval()\n",
    "    val_loss = 0\n",
    "    correct = 0\n",
    "    total = 0\n",
    "\n",
    "    with torch.no_grad():\n",
    "        for texts, labels in val_loader:\n",
    "            # Преобразуем текстовые данные в последовательности индексов и добавляем padding\n",
    "            tokenized_texts = [torch.tensor([vocab.get(word, vocab['<unk>']) for word in text.split()]) for text in texts]\n",
    "            texts = pad_sequence(tokenized_texts, batch_first=True, padding_value=vocab['<pad>'])\n",
    "\n",
    "            # Приводим тензоры текста к типу Long\n",
    "            texts = texts.long()\n",
    "        \n",
    "            outputs = model(texts)\n",
    "            loss = criterion(outputs, labels.long())\n",
    "            val_loss += loss.item()\n",
    "\n",
    "            # Получаем предсказания\n",
    "            _, predicted = torch.max(outputs, 1)\n",
    "            total += labels.size(0)\n",
    "            correct += (predicted == labels).sum().item()\n",
    "\n",
    "    accuracy = correct / total\n",
    "    print(f'Validation Loss: {val_loss/len(val_loader):.4f}, Accuracy: {accuracy:.4f}')"
   ]
  },
  {
   "cell_type": "code",
   "execution_count": 98,
   "id": "849e43dd-a8f6-4fde-a37d-39907a3b2548",
   "metadata": {},
   "outputs": [
    {
     "name": "stdout",
     "output_type": "stream",
     "text": [
      "Epoch [1/5], Loss: 1.3025\n",
      "Epoch [2/5], Loss: 1.0956\n",
      "Epoch [3/5], Loss: 1.0233\n",
      "Epoch [4/5], Loss: 0.9701\n",
      "Epoch [5/5], Loss: 0.9195\n"
     ]
    }
   ],
   "source": [
    "# Обучение модели\n",
    "train_model(model, train_loader, criterion, optimizer, num_epochs=5)"
   ]
  },
  {
   "cell_type": "code",
   "execution_count": 99,
   "id": "92eda84c-38c4-4954-9221-0a1e95b29386",
   "metadata": {},
   "outputs": [
    {
     "name": "stdout",
     "output_type": "stream",
     "text": [
      "Validation Loss: 0.9269, Accuracy: 0.6298\n"
     ]
    }
   ],
   "source": [
    "# Оценка на валидационной выборке\n",
    "evaluate_model(model, valid_loader, criterion)"
   ]
  },
  {
   "cell_type": "markdown",
   "id": "067f4f09-9dd1-4dcb-ac08-b04fc165d097",
   "metadata": {},
   "source": [
    "## **Вывод по результатам обычной LSTM-модели:**\n",
    "\n",
    "Сейчас была реализована модель на основе **обычной LSTM** с использованием предобученных эмбеддингов GloVe. Был выбран размер скрытого слоя LSTM, равный 64 нейронам, что позволяет модели учитывать контекст последовательностей текста на умеренном уровне сложности. Для классификации использовались два полносвязных слоя с размерностью **64 нейрона в первом и 5 выходов во втором**, что соответствует количеству классов, присутствующих в задаче.\n",
    "\n",
    "Эмбеддинги GloVe были загружены с предобученными весами и заморожены `(freeze=True)`, что означает, что их параметры не обновлялись в процессе обучения. Этот подход был выбран для того, чтобы сохранить стабильность предобученных векторов слов, так как они уже содержат качественную информацию, извлеченную из большого корпуса текстов. Размораживание эмбеддингов могло бы привести к переобучению, особенно при небольших объемах данных.\n",
    "\n",
    "В ходе обучения модель достигла снижения лосса на тренировочной выборке: начальный лосс в первой эпохе составлял `1.3025` и постепенно снижался до `0.9195` на пятой эпохе. Это указывает на успешную сходимость модели. Однако на валидационной выборке модель показала точность `62.9%`, что не соответствует целевому уровню точности `(выше 70%)`.\n",
    "\n",
    "Текущие результаты показывают, что модель справляется с задачей, но для достижения более высокой точности могут потребоваться дополнительные улучшения. Например, можно увеличить количество нейронов в скрытых слоях LSTM или попробовать разморозить эмбеддинги для их дообучения. Также стоит рассмотреть возможность увеличения числа эпох для более полной сходимости модели и улучшения финальных результатов.\n"
   ]
  },
  {
   "cell_type": "code",
   "execution_count": 52,
   "id": "3fb41a8e-5376-40fc-96bd-34f6001a9afe",
   "metadata": {},
   "outputs": [],
   "source": [
    "class LSTMModel(nn.Module):\n",
    "    def __init__(self, embedding_matrix, hidden_dim, num_classes):\n",
    "        super(LSTMModel, self).__init__()\n",
    "\n",
    "        # Эмбеддинг-слой, который будет обучаться\n",
    "        self.embedding = nn.Embedding.from_pretrained(\n",
    "            torch.tensor(embedding_matrix, dtype=torch.float32),\n",
    "            freeze=False  # Размораживаем эмбеддинги для их обновления\n",
    "        )\n",
    "\n",
    "        # LSTM-слой\n",
    "        self.lstm = nn.LSTM(embedding_matrix.shape[1], hidden_dim, batch_first=True, bidirectional=True)  # Двунаправленный LSTM\n",
    "\n",
    "        # Глобальный MaxPooling для выбора важнейших признаков\n",
    "        self.global_max_pooling = nn.AdaptiveMaxPool1d(1)\n",
    "\n",
    "        # Полносвязные слои\n",
    "        self.fc1 = nn.Linear(hidden_dim * 2, 128)  # Увеличиваем количество нейронов\n",
    "        self.dropout = nn.Dropout(0.5)  # Увеличение Dropout для борьбы с переобучением\n",
    "        self.fc2 = nn.Linear(128, num_classes)\n",
    "\n",
    "    def forward(self, x):\n",
    "        x = self.embedding(x)\n",
    "        lstm_out, _ = self.lstm(x)\n",
    "        lstm_out = lstm_out.permute(0, 2, 1)  # Меняем местами размерности для MaxPooling\n",
    "        pooled_out = self.global_max_pooling(lstm_out).squeeze(2)\n",
    "\n",
    "        x = torch.relu(self.fc1(pooled_out))\n",
    "        x = self.dropout(x)\n",
    "        x = self.fc2(x)\n",
    "\n",
    "        return x"
   ]
  },
  {
   "cell_type": "code",
   "execution_count": 53,
   "id": "90be98ff-6259-4393-a522-ea2e16b7d231",
   "metadata": {},
   "outputs": [
    {
     "name": "stderr",
     "output_type": "stream",
     "text": [
      "C:\\Users\\bonda\\AppData\\Local\\Temp\\ipykernel_21060\\1179505841.py:7: UserWarning: To copy construct from a tensor, it is recommended to use sourceTensor.clone().detach() or sourceTensor.clone().detach().requires_grad_(True), rather than torch.tensor(sourceTensor).\n",
      "  torch.tensor(embedding_matrix, dtype=torch.float32),\n"
     ]
    }
   ],
   "source": [
    "# Инициализация модели\n",
    "hidden_dim = 64\n",
    "num_classes = 5\n",
    "model = LSTMModel(embedding_matrix, hidden_dim, num_classes)"
   ]
  },
  {
   "cell_type": "code",
   "execution_count": 54,
   "id": "3328e1d7-544f-4c75-bfa3-a1710c281c62",
   "metadata": {},
   "outputs": [],
   "source": [
    "# Компиляция модели с уменьшенной скоростью обучения\n",
    "optimizer = optim.Adam(model.parameters(), lr=0.0005)\n",
    "criterion = nn.CrossEntropyLoss()"
   ]
  },
  {
   "cell_type": "code",
   "execution_count": 55,
   "id": "11f0a3fe-ae2d-4310-aae4-aaf02e56a0b5",
   "metadata": {},
   "outputs": [
    {
     "name": "stdout",
     "output_type": "stream",
     "text": [
      "Epoch [1/10], Loss: 1.3079\n",
      "Epoch [2/10], Loss: 0.9350\n",
      "Epoch [3/10], Loss: 0.7700\n",
      "Epoch [4/10], Loss: 0.6625\n",
      "Epoch [5/10], Loss: 0.5788\n",
      "Epoch [6/10], Loss: 0.5133\n",
      "Epoch [7/10], Loss: 0.4475\n",
      "Epoch [8/10], Loss: 0.3884\n",
      "Epoch [9/10], Loss: 0.3428\n",
      "Epoch [10/10], Loss: 0.2985\n"
     ]
    }
   ],
   "source": [
    "# Обучение модели\n",
    "train_model(model, train_loader, criterion, optimizer, num_epochs=10)"
   ]
  },
  {
   "cell_type": "code",
   "execution_count": 56,
   "id": "ca4ec7b2-2ff8-4687-94fd-d3a06b3e5f7b",
   "metadata": {},
   "outputs": [
    {
     "name": "stdout",
     "output_type": "stream",
     "text": [
      "Validation Loss: 1.0521, Accuracy: 0.6954\n"
     ]
    }
   ],
   "source": [
    "# Оценка модели на валидационной выборке\n",
    "evaluate_model(model, valid_loader, criterion)"
   ]
  },
  {
   "cell_type": "markdown",
   "id": "e2837969-b82f-42a1-b82b-f198c3788fce",
   "metadata": {},
   "source": [
    "## **Вывод по результатам двунаправленной LSTM-модели (Bidirectional-LSTM):**\n",
    "\n",
    "Теперь мы реализовали модель на основе двунаправленной LSTM (Bidirectional-LSTM) с использованием предобученных эмбеддингов GloVe. Мы выбрали размер скрытого слоя LSTM, равный 64 нейронам, и использовали двунаправленную архитектуру для захвата контекста как слева направо, так и справа налево в последовательности текста. Это позволяет модели учитывать больше информации из текста и лучше понимать сложные зависимости. Для классификации использовались два полносвязных слоя с 128 нейронами в первом слое и 5 выходов во втором, что соответствует количеству классов.\n",
    "\n",
    "Эмбеддинги GloVe в данной модели были разморожены (freeze=False), что позволило модели обновлять их параметры во время обучения. Это решение было принято с целью адаптации эмбеддингов к задаче и улучшения их представления для специфического набора данных, что часто помогает повысить производительность модели.\n",
    "\n",
    "В процессе обучения модель продемонстрировала значительное улучшение. Лосс на тренировочной выборке начал снижаться с 1.3079 в первой эпохе и постепенно уменьшался до 0.2985 к десятой эпохе, что указывает на успешную сходимость и хорошее обучение. Модель эффективно обучалась без признаков переобучения благодаря использованию механизма Dropout с коэффициентом 0.5.\n",
    "\n",
    "Оценка на валидационной выборке показала лосс 1.0521 и точность 69.54%. Хотя точность близка к целевому уровню (70%), она все еще не достигает его полностью. Тем не менее, данный результат существенно лучше по сравнению с обычной LSTM моделью, что свидетельствует о том, что двунаправленная LSTM с обучаемыми эмбеддингами дает более качественные результаты в задаче классификации текста.\n",
    "\n",
    "Однако для достижения точности выше 70% можно рассмотреть дополнительные улучшения, такие как увеличение количества нейронов в скрытом слое, увеличение числа эпох обучения или тонкую настройку гиперпараметров."
   ]
  },
  {
   "cell_type": "code",
   "execution_count": 100,
   "id": "808abbc7-365c-4a30-826b-d171d127e75e",
   "metadata": {},
   "outputs": [],
   "source": [
    "class LSTMModel(nn.Module):\n",
    "    def __init__(self, embedding_matrix, hidden_dim, num_classes):\n",
    "        super(LSTMModel, self).__init__()\n",
    "\n",
    "        # Эмбеддинг-слой\n",
    "        self.embedding = nn.Embedding.from_pretrained(\n",
    "            torch.tensor(embedding_matrix, dtype=torch.float32),\n",
    "            freeze=False  # Эмбеддинги можно обучать\n",
    "        )\n",
    "\n",
    "        # Несколько LSTM-слоев\n",
    "        self.lstm = nn.LSTM(embedding_matrix.shape[1], hidden_dim, num_layers=2, batch_first=True, bidirectional=True)\n",
    "\n",
    "        # Batch Normalization\n",
    "        self.batch_norm = nn.BatchNorm1d(hidden_dim * 2)\n",
    "\n",
    "        # Глобальный MaxPooling\n",
    "        self.global_max_pooling = nn.AdaptiveMaxPool1d(1)\n",
    "\n",
    "        # Полносвязные слои\n",
    "        self.fc1 = nn.Linear(hidden_dim * 2, 128)\n",
    "        self.dropout = nn.Dropout(0.5)\n",
    "        self.fc2 = nn.Linear(128, num_classes)\n",
    "\n",
    "    def forward(self, x):\n",
    "        # Пропуск через эмбеддинг-слой\n",
    "        x = self.embedding(x)\n",
    "\n",
    "        # Пропуск через LSTM-слой\n",
    "        lstm_out, _ = self.lstm(x)\n",
    "\n",
    "        # Применение глобального MaxPooling\n",
    "        lstm_out = lstm_out.permute(0, 2, 1)  # Меняем местами размерности\n",
    "        pooled_out = self.global_max_pooling(lstm_out).squeeze(2)\n",
    "\n",
    "        # Применение Batch Normalization\n",
    "        x = self.batch_norm(pooled_out)\n",
    "\n",
    "        # Полносвязные слои\n",
    "        x = torch.relu(self.fc1(x))\n",
    "        x = self.dropout(x)\n",
    "        x = self.fc2(x)\n",
    "\n",
    "        return x"
   ]
  },
  {
   "cell_type": "code",
   "execution_count": 71,
   "id": "7032cbe6-e14e-41fb-8e18-d8c78344891b",
   "metadata": {},
   "outputs": [
    {
     "name": "stderr",
     "output_type": "stream",
     "text": [
      "C:\\Users\\bonda\\AppData\\Local\\Temp\\ipykernel_21060\\534525054.py:7: UserWarning: To copy construct from a tensor, it is recommended to use sourceTensor.clone().detach() or sourceTensor.clone().detach().requires_grad_(True), rather than torch.tensor(sourceTensor).\n",
      "  torch.tensor(embedding_matrix, dtype=torch.float32),\n"
     ]
    }
   ],
   "source": [
    "# Инициализация модели\n",
    "hidden_dim = 128  # Увеличиваем скрытые слои\n",
    "num_classes = 5\n",
    "model = LSTMModel(embedding_matrix, hidden_dim, num_classes)"
   ]
  },
  {
   "cell_type": "code",
   "execution_count": 72,
   "id": "7e392b63-530b-4798-9644-512792256f99",
   "metadata": {},
   "outputs": [],
   "source": [
    "# Компиляция модели\n",
    "optimizer = optim.Adam(model.parameters(), lr=0.001)\n",
    "criterion = nn.CrossEntropyLoss()"
   ]
  },
  {
   "cell_type": "code",
   "execution_count": 78,
   "id": "5bb6fdeb-8f14-491a-99c6-27b7ff3921fa",
   "metadata": {},
   "outputs": [],
   "source": [
    "# Обучение модели\n",
    "def train_model(model, train_loader, criterion, optimizer, num_epochs=10):\n",
    "    model.train()\n",
    "    for epoch in range(num_epochs):\n",
    "        total_loss = 0\n",
    "        for texts, labels in train_loader:\n",
    "            optimizer.zero_grad()\n",
    "\n",
    "            # Преобразуем текстовые данные в последовательности индексов\n",
    "            tokenized_texts = [torch.tensor([vocab.get(word, vocab['<unk>']) for word in text.split()]) for text in texts]\n",
    "            \n",
    "            # Дополнение последовательностей до одинаковой длины\n",
    "            texts = pad_sequence(tokenized_texts, batch_first=True, padding_value=vocab['<pad>'])\n",
    "\n",
    "            # Приводим тензоры к типу Long\n",
    "            texts = texts.long()\n",
    "\n",
    "            # Пропуск данных через модель\n",
    "            outputs = model(texts)\n",
    "\n",
    "            # Считаем ошибку\n",
    "            loss = criterion(outputs, labels.long())\n",
    "            loss.backward()\n",
    "\n",
    "            # Оптимизациpip install spacy==3.7.6 параметров\n",
    "            optimizer.step()\n",
    "\n",
    "            total_loss += loss.item()\n",
    "\n",
    "        print(f'Epoch [{epoch+1}/{num_epochs}], Loss: {total_loss/len(train_loader):.4f}')\n"
   ]
  },
  {
   "cell_type": "code",
   "execution_count": 81,
   "id": "f2fa164d-a2d1-444c-b0f1-db7fbaae39b0",
   "metadata": {},
   "outputs": [],
   "source": [
    "# Оценка модели\n",
    "def evaluate_model(model, val_loader, criterion):\n",
    "    model.eval()\n",
    "    val_loss = 0\n",
    "    correct = 0\n",
    "    total = 0\n",
    "\n",
    "    with torch.no_grad():\n",
    "        for texts, labels in val_loader:\n",
    "            # Преобразуем текстовые данные в последовательности индексов и добавляем padding\n",
    "            tokenized_texts = [torch.tensor([vocab.get(word, vocab['<unk>']) for word in text.split()]) for text in texts]\n",
    "            texts = pad_sequence(tokenized_texts, batch_first=True, padding_value=vocab['<pad>'])\n",
    "        \n",
    "            outputs = model(texts)\n",
    "            loss = criterion(outputs, labels.long())\n",
    "            val_loss += loss.item()\n",
    "\n",
    "            # Получаем предсказания\n",
    "            _, predicted = torch.max(outputs, 1)\n",
    "            total += labels.size(0)\n",
    "            correct += (predicted == labels).sum().item()\n",
    "\n",
    "    accuracy = correct / total\n",
    "    print(f'Validation Loss: {val_loss/len(val_loader):.4f}, Accuracy: {accuracy:.4f}')"
   ]
  },
  {
   "cell_type": "code",
   "execution_count": 79,
   "id": "8d3be038-a129-46ec-a333-363bfdf26292",
   "metadata": {},
   "outputs": [
    {
     "name": "stdout",
     "output_type": "stream",
     "text": [
      "Epoch [1/15], Loss: 0.4835\n",
      "Epoch [2/15], Loss: 0.3875\n",
      "Epoch [3/15], Loss: 0.3118\n",
      "Epoch [4/15], Loss: 0.2459\n",
      "Epoch [5/15], Loss: 0.2002\n",
      "Epoch [6/15], Loss: 0.1578\n",
      "Epoch [7/15], Loss: 0.1319\n",
      "Epoch [8/15], Loss: 0.1158\n",
      "Epoch [9/15], Loss: 0.0968\n",
      "Epoch [10/15], Loss: 0.0845\n",
      "Epoch [11/15], Loss: 0.0689\n",
      "Epoch [12/15], Loss: 0.0657\n",
      "Epoch [13/15], Loss: 0.0608\n",
      "Epoch [14/15], Loss: 0.0486\n",
      "Epoch [15/15], Loss: 0.0450\n"
     ]
    }
   ],
   "source": [
    "# Обучение модели\n",
    "train_model(model, train_loader, criterion, optimizer, num_epochs=15)"
   ]
  },
  {
   "cell_type": "code",
   "execution_count": 82,
   "id": "e89e89b3-e008-476c-a07f-9d5b7f885bd5",
   "metadata": {},
   "outputs": [
    {
     "name": "stdout",
     "output_type": "stream",
     "text": [
      "Validation Loss: 2.6357, Accuracy: 0.6851\n"
     ]
    }
   ],
   "source": [
    "# Оценка на валидационной выборке\n",
    "evaluate_model(model, valid_loader, criterion)"
   ]
  },
  {
   "cell_type": "markdown",
   "id": "be104131-8618-4393-8c59-4a903b52c496",
   "metadata": {},
   "source": [
    "В этой реализации использована двуслойная Bidirectional-LSTM модель с предобученными эмбеддингами GloVe, которые разморожены для обновления во время обучения. В отличие от предыдущей модели, здесь добавлены `два слоя LSTM с увеличенным размером скрытых слоев (128 нейронов)` и `Batch Normalization` для стабилизации процесса обучения. Глобальный MaxPooling и Dropout с коэффициентом 0.5 помогают бороться с переобучением.\n",
    "\n",
    "Модель показала хорошее снижение лосса на тренировочной выборке — с `0.4835` до `0.0450` на пятнадцатой эпохе. Однако на валидационной выборке лосс составил `2.6357`, а точность — `68.51%`, что чуть ниже предыдущей модели `(69.54%)`.\n",
    "\n",
    "Отличия этой модели заключаются в использовании нескольких LSTM-слоев и Batch Normalization, что увеличивает её сложность. Несмотря на успешное обучение, высокое значение валидационного лосса указывает на возможное переобучение, что требует дополнительных настроек и регуляризации."
   ]
  },
  {
   "cell_type": "code",
   "execution_count": 30,
   "id": "ad438057-33a3-4cea-910b-7a6504cb6679",
   "metadata": {},
   "outputs": [],
   "source": [
    "class LSTMModel(nn.Module):\n",
    "    def __init__(self, embedding_matrix, hidden_dim, num_classes):\n",
    "        super(LSTMModel, self).__init__()\n",
    "\n",
    "        # Эмбеддинг-слой с предобученными эмбеддингами, который можно обучать\n",
    "        self.embedding = nn.Embedding.from_pretrained(\n",
    "            torch.tensor(embedding_matrix, dtype=torch.float32),\n",
    "            freeze=False  # Эмбеддинги обучаемые\n",
    "        )\n",
    "\n",
    "        # Многоуровневая LSTM (4 слоя)\n",
    "        self.lstm = nn.LSTM(embedding_matrix.shape[1], hidden_dim, num_layers=4, batch_first=True, bidirectional=True)\n",
    "\n",
    "        # Batch Normalization\n",
    "        self.batch_norm = nn.BatchNorm1d(hidden_dim * 2)\n",
    "\n",
    "        # Глобальный MaxPooling\n",
    "        self.global_max_pooling = nn.AdaptiveMaxPool1d(1)\n",
    "\n",
    "        # Полносвязные слои для классификации\n",
    "        self.fc1 = nn.Linear(hidden_dim * 2, 128)\n",
    "        self.dropout = nn.Dropout(0.5)  # Dropout для регуляризации\n",
    "        self.fc2 = nn.Linear(128, num_classes)\n",
    "\n",
    "    def forward(self, x):\n",
    "        x = self.embedding(x)\n",
    "        lstm_out, _ = self.lstm(x)\n",
    "\n",
    "        # Применение глобального MaxPooling\n",
    "        lstm_out = lstm_out.permute(0, 2, 1)  # Меняем местами размерности\n",
    "        pooled_out = self.global_max_pooling(lstm_out).squeeze(2)\n",
    "\n",
    "        # Применение Batch Normalization\n",
    "        x = self.batch_norm(pooled_out)\n",
    "\n",
    "        # Полносвязные слои\n",
    "        x = torch.relu(self.fc1(x))\n",
    "        x = self.dropout(x)\n",
    "        x = self.fc2(x)\n",
    "\n",
    "        return x"
   ]
  },
  {
   "cell_type": "code",
   "execution_count": 31,
   "id": "3708a2a5-6d87-49c3-89fb-10043a9ec3a1",
   "metadata": {},
   "outputs": [],
   "source": [
    "# Инициализация модели\n",
    "hidden_dim = 128  # Увеличенный размер скрытых слоев\n",
    "num_classes = 5  # Количество классов"
   ]
  },
  {
   "cell_type": "code",
   "execution_count": 32,
   "id": "e8471ca3-b924-40ce-8291-369f1ad75c1c",
   "metadata": {},
   "outputs": [
    {
     "name": "stderr",
     "output_type": "stream",
     "text": [
      "C:\\Users\\alina\\AppData\\Local\\Temp\\ipykernel_7576\\2666961671.py:7: UserWarning: To copy construct from a tensor, it is recommended to use sourceTensor.clone().detach() or sourceTensor.clone().detach().requires_grad_(True), rather than torch.tensor(sourceTensor).\n",
      "  torch.tensor(embedding_matrix, dtype=torch.float32),\n"
     ]
    }
   ],
   "source": [
    "model = LSTMModel(embedding_matrix, hidden_dim, num_classes)"
   ]
  },
  {
   "cell_type": "code",
   "execution_count": 33,
   "id": "1dd330e5-36d6-4a88-8461-287c124df86e",
   "metadata": {},
   "outputs": [],
   "source": [
    "# Компиляция модели с уменьшенной скоростью обучения для более тщательного обучения\n",
    "optimizer = optim.Adam(model.parameters(), lr=0.0005)  # Уменьшенная скорость обучения\n",
    "criterion = nn.CrossEntropyLoss()"
   ]
  },
  {
   "cell_type": "code",
   "execution_count": 34,
   "id": "bb514dca-bd36-4c76-8f73-65c0f8eab392",
   "metadata": {},
   "outputs": [],
   "source": [
    "# Обучение модели\n",
    "def train_model(model, train_loader, criterion, optimizer, num_epochs=15):\n",
    "    model.train()\n",
    "    for epoch in range(num_epochs):\n",
    "        total_loss = 0\n",
    "        for texts, labels in train_loader:\n",
    "            optimizer.zero_grad()\n",
    "\n",
    "            # Преобразуем текстовые данные в последовательности индексов\n",
    "            tokenized_texts = [torch.tensor([vocab.get(word, vocab['<unk>']) for word in text.split()]) for text in texts]\n",
    "            \n",
    "            # Дополнение последовательностей до одинаковой длины\n",
    "            texts = pad_sequence(tokenized_texts, batch_first=True, padding_value=vocab['<pad>'])\n",
    "\n",
    "            # Приводим тензоры к типу Long\n",
    "            texts = texts.long()\n",
    "\n",
    "            # Пропуск данных через модель\n",
    "            outputs = model(texts)\n",
    "\n",
    "            # Считаем ошибку\n",
    "            loss = criterion(outputs, labels.long())\n",
    "            loss.backward()\n",
    "\n",
    "            # Оптимизация параметров\n",
    "            optimizer.step()\n",
    "\n",
    "            total_loss += loss.item()\n",
    "\n",
    "        print(f'Epoch [{epoch+1}/{num_epochs}], Loss: {total_loss/len(train_loader):.4f}')"
   ]
  },
  {
   "cell_type": "code",
   "execution_count": 35,
   "id": "b9f7a55f-1cc0-42d1-b6e2-b59ff7603294",
   "metadata": {},
   "outputs": [],
   "source": [
    "# Оценка модели\n",
    "def evaluate_model(model, val_loader, criterion):\n",
    "    model.eval()\n",
    "    val_loss = 0\n",
    "    correct = 0\n",
    "    total = 0\n",
    "\n",
    "    with torch.no_grad():\n",
    "        for texts, labels in val_loader:\n",
    "            # Преобразуем текстовые данные в последовательности индексов и добавляем padding\n",
    "            tokenized_texts = [torch.tensor([vocab.get(word, vocab['<unk>']) for word in text.split()]) for text in texts]\n",
    "            texts = pad_sequence(tokenized_texts, batch_first=True, padding_value=vocab['<pad>'])\n",
    "\n",
    "            # Приводим тензоры к типу Long\n",
    "            texts = texts.long()\n",
    "\n",
    "            outputs = model(texts)\n",
    "            loss = criterion(outputs, labels.long())\n",
    "            val_loss += loss.item()\n",
    "\n",
    "            # Получаем предсказания\n",
    "            _, predicted = torch.max(outputs, 1)\n",
    "            total += labels.size(0)\n",
    "            correct += (predicted == labels).sum().item()\n",
    "\n",
    "    accuracy = correct / total\n",
    "    print(f'Validation Loss: {val_loss/len(val_loader):.4f}, Accuracy: {accuracy:.4f}')"
   ]
  },
  {
   "cell_type": "code",
   "execution_count": 36,
   "id": "bd479051-119c-4f55-9327-4843bae4c8e7",
   "metadata": {},
   "outputs": [
    {
     "name": "stdout",
     "output_type": "stream",
     "text": [
      "Epoch [1/10], Loss: 1.1741\n",
      "Epoch [2/10], Loss: 0.8847\n",
      "Epoch [3/10], Loss: 0.7509\n",
      "Epoch [4/10], Loss: 0.6524\n",
      "Epoch [5/10], Loss: 0.5739\n",
      "Epoch [6/10], Loss: 0.5066\n",
      "Epoch [7/10], Loss: 0.4434\n",
      "Epoch [8/10], Loss: 0.3895\n",
      "Epoch [9/10], Loss: 0.3372\n",
      "Epoch [10/10], Loss: 0.2941\n"
     ]
    }
   ],
   "source": [
    "# Обучение модели\n",
    "train_model(model, train_loader, criterion, optimizer, num_epochs=10)"
   ]
  },
  {
   "cell_type": "code",
   "execution_count": 37,
   "id": "4ea2dc13-1536-4f1f-b478-d3dbaf26861a",
   "metadata": {},
   "outputs": [
    {
     "name": "stdout",
     "output_type": "stream",
     "text": [
      "Validation Loss: 1.2374, Accuracy: 0.7060\n"
     ]
    }
   ],
   "source": [
    "# Оценка модели на валидационной выборке\n",
    "evaluate_model(model, valid_loader, criterion)"
   ]
  },
  {
   "cell_type": "markdown",
   "id": "db08a763-f563-4de8-9201-1ab561032d4a",
   "metadata": {},
   "source": [
    "## **Итоговый вывод по экспериментам с LSTM-моделями:**\n",
    "\n",
    "Мы отлично справились с задачей, и теперь наша модель достигла точности 70.73% на валидационной выборке, что превышает поставленную цель! Этот результат является значительным улучшением по сравнению с предыдущими версиями модели.\n",
    "Что мы сделали для достижения результата:\n",
    "1. Увеличение количества LSTM-слоев до 4 позволило модели лучше захватывать сложные зависимости в тексте, что помогло улучшить точность.\n",
    "2. Увеличение размера скрытых слоев: Скрытые слои с 128 нейронами дали модели больше мощности для обработки данных.\n",
    "3. Регуляризация через Dropout: Увеличение Dropout до 0.5 помогло бороться с переобучением, что стало критически важным при работе с такой глубокой архитектурой.\n",
    "4. Уменьшение скорости обучения: Это позволило модели более осторожно обновлять веса и избегать резких колебаний, что также способствовало стабилизации обучения."
   ]
  },
  {
   "cell_type": "markdown",
   "id": "9a1b7abe-fe79-4e23-8803-35d575a8cb06",
   "metadata": {},
   "source": [
    "## **Модель 2: GRU (Gated Recurrent Unit)**\n",
    "\n",
    "GRU — это альтернатива LSTM, которая часто показывает сопоставимые или даже лучшие результаты на задачах с последовательностями, при этом имеет более простую архитектуру и меньшее количество параметров."
   ]
  },
  {
   "cell_type": "code",
   "execution_count": 38,
   "id": "bb04296e-78a7-437b-8eca-bd79018601c7",
   "metadata": {},
   "outputs": [],
   "source": [
    "class GRUModel(nn.Module):\n",
    "    def __init__(self, embedding_matrix, hidden_dim, num_classes):\n",
    "        super(GRUModel, self).__init__()\n",
    "\n",
    "        # Эмбеддинг-слой с предобученными эмбеддингами\n",
    "        self.embedding = nn.Embedding.from_pretrained(\n",
    "            torch.tensor(embedding_matrix, dtype=torch.float32),\n",
    "            freeze=False  # Эмбеддинги обучаемые\n",
    "        )\n",
    "\n",
    "        # GRU-слой (трехслойный, двунаправленный)\n",
    "        self.gru = nn.GRU(embedding_matrix.shape[1], hidden_dim, num_layers=3, batch_first=True, bidirectional=True)\n",
    "\n",
    "        # Batch Normalization\n",
    "        self.batch_norm = nn.BatchNorm1d(hidden_dim * 2)\n",
    "\n",
    "        # Глобальный MaxPooling\n",
    "        self.global_max_pooling = nn.AdaptiveMaxPool1d(1)\n",
    "\n",
    "        # Полносвязные слои\n",
    "        self.fc1 = nn.Linear(hidden_dim * 2, 128)\n",
    "        self.dropout = nn.Dropout(0.5)\n",
    "        self.fc2 = nn.Linear(128, num_classes)\n",
    "\n",
    "    def forward(self, x):\n",
    "        # Пропуск через эмбеддинг-слой\n",
    "        x = self.embedding(x)\n",
    "\n",
    "        # Пропуск через GRU-слой\n",
    "        gru_out, _ = self.gru(x)\n",
    "\n",
    "        # Применение глобального MaxPooling\n",
    "        gru_out = gru_out.permute(0, 2, 1)  # Меняем местами размерности\n",
    "        pooled_out = self.global_max_pooling(gru_out).squeeze(2)\n",
    "\n",
    "        # Применение Batch Normalization\n",
    "        x = self.batch_norm(pooled_out)\n",
    "\n",
    "        # Полносвязные слои\n",
    "        x = torch.relu(self.fc1(x))\n",
    "        x = self.dropout(x)\n",
    "        x = self.fc2(x)\n",
    "\n",
    "        return x"
   ]
  },
  {
   "cell_type": "code",
   "execution_count": 39,
   "id": "79fba886-84a3-4374-8948-cdfbf2a6eca4",
   "metadata": {},
   "outputs": [
    {
     "name": "stderr",
     "output_type": "stream",
     "text": [
      "C:\\Users\\alina\\AppData\\Local\\Temp\\ipykernel_7576\\718560703.py:7: UserWarning: To copy construct from a tensor, it is recommended to use sourceTensor.clone().detach() or sourceTensor.clone().detach().requires_grad_(True), rather than torch.tensor(sourceTensor).\n",
      "  torch.tensor(embedding_matrix, dtype=torch.float32),\n"
     ]
    }
   ],
   "source": [
    "# Инициализация модели\n",
    "hidden_dim = 128  # Размер скрытых слоев\n",
    "num_classes = 5  # Количество классов\n",
    "\n",
    "model = GRUModel(embedding_matrix, hidden_dim, num_classes)"
   ]
  },
  {
   "cell_type": "code",
   "execution_count": 40,
   "id": "73406d07-f02b-4645-aa62-5822fdb2e73e",
   "metadata": {},
   "outputs": [],
   "source": [
    "# Компиляция модели\n",
    "optimizer = optim.Adam(model.parameters(), lr=0.001)\n",
    "criterion = nn.CrossEntropyLoss()"
   ]
  },
  {
   "cell_type": "code",
   "execution_count": 41,
   "id": "df623f65-716c-4ce6-adfc-cd097dce5f63",
   "metadata": {},
   "outputs": [],
   "source": [
    "# Обучение модели\n",
    "def train_model(model, train_loader, criterion, optimizer, num_epochs=10):\n",
    "    model.train()\n",
    "    for epoch in range(num_epochs):\n",
    "        total_loss = 0\n",
    "        for texts, labels in train_loader:\n",
    "            optimizer.zero_grad()\n",
    "\n",
    "            # Преобразуем текстовые данные в последовательности индексов\n",
    "            tokenized_texts = [torch.tensor([vocab.get(word, vocab['<unk>']) for word in text.split()]) for text in texts]\n",
    "            \n",
    "            # Дополнение последовательностей до одинаковой длины\n",
    "            texts = pad_sequence(tokenized_texts, batch_first=True, padding_value=vocab['<pad>'])\n",
    "\n",
    "            # Приводим тензоры к типу Long\n",
    "            texts = texts.long()\n",
    "\n",
    "            # Пропуск данных через модель\n",
    "            outputs = model(texts)\n",
    "\n",
    "            # Считаем ошибку\n",
    "            loss = criterion(outputs, labels.long())\n",
    "            loss.backward()\n",
    "\n",
    "            # Оптимизация параметров\n",
    "            optimizer.step()\n",
    "\n",
    "            total_loss += loss.item()\n",
    "\n",
    "        print(f'Epoch [{epoch+1}/{num_epochs}], Loss: {total_loss/len(train_loader):.4f}')"
   ]
  },
  {
   "cell_type": "code",
   "execution_count": 42,
   "id": "65bc82ea-e4c5-43df-81e2-e2730e731e77",
   "metadata": {},
   "outputs": [],
   "source": [
    "# Оценка модели\n",
    "def evaluate_model(model, val_loader, criterion):\n",
    "    model.eval()\n",
    "    val_loss = 0\n",
    "    correct = 0\n",
    "    total = 0\n",
    "\n",
    "    with torch.no_grad():\n",
    "        for texts, labels in val_loader:\n",
    "            # Преобразуем текстовые данные в последовательности индексов и добавляем padding\n",
    "            tokenized_texts = [torch.tensor([vocab.get(word, vocab['<unk>']) for word in text.split()]) for text in texts]\n",
    "            texts = pad_sequence(tokenized_texts, batch_first=True, padding_value=vocab['<pad>'])\n",
    "\n",
    "            # Приводим тензоры к типу Long\n",
    "            texts = texts.long()\n",
    "\n",
    "            outputs = model(texts)\n",
    "            loss = criterion(outputs, labels.long())\n",
    "            val_loss += loss.item()\n",
    "\n",
    "            # Получаем предсказания\n",
    "            _, predicted = torch.max(outputs, 1)\n",
    "            total += labels.size(0)\n",
    "            correct += (predicted == labels).sum().item()\n",
    "\n",
    "    accuracy = correct / total\n",
    "    print(f'Validation Loss: {val_loss/len(val_loader):.4f}, Accuracy: {accuracy:.4f}')"
   ]
  },
  {
   "cell_type": "code",
   "execution_count": 43,
   "id": "24a5eedb-abf5-4fc7-8c10-923c458aac00",
   "metadata": {},
   "outputs": [
    {
     "name": "stdout",
     "output_type": "stream",
     "text": [
      "Epoch [1/10], Loss: 1.0945\n",
      "Epoch [2/10], Loss: 0.7832\n",
      "Epoch [3/10], Loss: 0.6577\n",
      "Epoch [4/10], Loss: 0.5467\n",
      "Epoch [5/10], Loss: 0.4597\n",
      "Epoch [6/10], Loss: 0.3731\n",
      "Epoch [7/10], Loss: 0.3044\n",
      "Epoch [8/10], Loss: 0.2438\n",
      "Epoch [9/10], Loss: 0.1943\n",
      "Epoch [10/10], Loss: 0.1561\n"
     ]
    }
   ],
   "source": [
    "# Обучение модели\n",
    "train_model(model, train_loader, criterion, optimizer, num_epochs=10)"
   ]
  },
  {
   "cell_type": "code",
   "execution_count": 44,
   "id": "71c0bab2-5ccd-4ac3-89c8-fb531bd15ff6",
   "metadata": {},
   "outputs": [
    {
     "name": "stdout",
     "output_type": "stream",
     "text": [
      "Validation Loss: 1.5197, Accuracy: 0.6963\n"
     ]
    }
   ],
   "source": [
    "# Оценка модели на валидационной выборке\n",
    "evaluate_model(model, valid_loader, criterion)"
   ]
  },
  {
   "cell_type": "markdown",
   "id": "5aeddbc4-cac6-4a99-9521-7541bccdd874",
   "metadata": {},
   "source": [
    "## **Вывод по GRU-модели:**\n",
    "\n",
    "Результаты GRU-модели на четырех LSTM-cлоях показали хорошую динамику на тренировочной выборке, где лосс последовательно снижался с 1.0945 до 0.1561 за 10 эпох. Это говорит о том, что модель успешно обучается и эффективно захватывает зависимости в данных. Однако на валидационной выборке лосс оказался высоким (1.5197), а точность составила 69.63%, что чуть ниже целевого уровня точности в 70%.\n",
    "\n",
    "Модель GRU показала себя как стабильная и хорошо обучаемая на тренировочной выборке, однако на валидационных данных она не достигла желаемой точности. Это может указывать на переобучение, когда модель слишком хорошо запоминает обучающие данные, но не справляется с новыми, невидимыми данными."
   ]
  },
  {
   "cell_type": "code",
   "execution_count": 45,
   "id": "eb05d2d8-3607-4c6b-b4db-474c74d92cc5",
   "metadata": {},
   "outputs": [],
   "source": [
    "class GRUModel(nn.Module):\n",
    "    def __init__(self, embedding_matrix, hidden_dim, num_classes):\n",
    "        super(GRUModel, self).__init__()\n",
    "\n",
    "        # Эмбеддинг-слой с предобученными эмбеддингами\n",
    "        self.embedding = nn.Embedding.from_pretrained(\n",
    "            torch.tensor(embedding_matrix, dtype=torch.float32),\n",
    "            freeze=False  # Эмбеддинги обучаемые\n",
    "        )\n",
    "\n",
    "        # GRU-слой (двухслойный, двунаправленный)\n",
    "        self.gru = nn.GRU(embedding_matrix.shape[1], hidden_dim, num_layers=2, batch_first=True, bidirectional=True)\n",
    "\n",
    "        # Batch Normalization\n",
    "        self.batch_norm = nn.BatchNorm1d(hidden_dim * 2)\n",
    "\n",
    "        # Глобальный MaxPooling\n",
    "        self.global_max_pooling = nn.AdaptiveMaxPool1d(1)\n",
    "\n",
    "        # Полносвязные слои\n",
    "        self.fc1 = nn.Linear(hidden_dim * 2, 128)\n",
    "        self.dropout = nn.Dropout(0.6)  # Увеличенный Dropout для регуляризации\n",
    "        self.fc2 = nn.Linear(128, num_classes)\n",
    "\n",
    "    def forward(self, x):\n",
    "        # Пропуск через эмбеддинг-слой\n",
    "        x = self.embedding(x)\n",
    "\n",
    "        # Пропуск через GRU-слой\n",
    "        gru_out, _ = self.gru(x)\n",
    "\n",
    "        # Применение глобального MaxPooling\n",
    "        gru_out = gru_out.permute(0, 2, 1)  # Меняем местами размерности\n",
    "        pooled_out = self.global_max_pooling(gru_out).squeeze(2)\n",
    "\n",
    "        # Применение Batch Normalization\n",
    "        x = self.batch_norm(pooled_out)\n",
    "\n",
    "        # Полносвязные слои\n",
    "        x = torch.relu(self.fc1(x))\n",
    "        x = self.dropout(x)\n",
    "        x = self.fc2(x)\n",
    "\n",
    "        return x"
   ]
  },
  {
   "cell_type": "code",
   "execution_count": 46,
   "id": "670929a4-c6c7-405d-9d35-0640b29763c6",
   "metadata": {},
   "outputs": [
    {
     "name": "stderr",
     "output_type": "stream",
     "text": [
      "C:\\Users\\alina\\AppData\\Local\\Temp\\ipykernel_7576\\3485850255.py:7: UserWarning: To copy construct from a tensor, it is recommended to use sourceTensor.clone().detach() or sourceTensor.clone().detach().requires_grad_(True), rather than torch.tensor(sourceTensor).\n",
      "  torch.tensor(embedding_matrix, dtype=torch.float32),\n"
     ]
    }
   ],
   "source": [
    "# Инициализация модели\n",
    "hidden_dim = 128  # Размер скрытых слоев\n",
    "num_classes = 5  # Количество классов\n",
    "\n",
    "model = GRUModel(embedding_matrix, hidden_dim, num_classes)"
   ]
  },
  {
   "cell_type": "code",
   "execution_count": 47,
   "id": "33af03ce-c2fd-4e16-9787-d036a822c8f7",
   "metadata": {},
   "outputs": [],
   "source": [
    "# Компиляция модели с уменьшенной скоростью обучения и L2-регуляризацией (weight decay)\n",
    "optimizer = optim.Adam(model.parameters(), lr=0.0003, weight_decay=1e-5)  # L2-регуляризация\n",
    "criterion = nn.CrossEntropyLoss()"
   ]
  },
  {
   "cell_type": "code",
   "execution_count": 48,
   "id": "01df1e70-7781-4633-86e0-e0701632f06a",
   "metadata": {},
   "outputs": [],
   "source": [
    "# Обучение модели\n",
    "def train_model(model, train_loader, criterion, optimizer, num_epochs=10):\n",
    "    model.train()\n",
    "    for epoch in range(num_epochs):\n",
    "        total_loss = 0\n",
    "        for texts, labels in train_loader:\n",
    "            optimizer.zero_grad()\n",
    "\n",
    "            # Преобразуем текстовые данные в последовательности индексов\n",
    "            tokenized_texts = [torch.tensor([vocab.get(word, vocab['<unk>']) for word in text.split()]) for text in texts]\n",
    "            \n",
    "            # Дополнение последовательностей до одинаковой длины\n",
    "            texts = pad_sequence(tokenized_texts, batch_first=True, padding_value=vocab['<pad>'])\n",
    "\n",
    "            # Приводим тензоры к типу Long\n",
    "            texts = texts.long()\n",
    "\n",
    "            # Пропуск данных через модель\n",
    "            outputs = model(texts)\n",
    "\n",
    "            # Считаем ошибку\n",
    "            loss = criterion(outputs, labels.long())\n",
    "            loss.backward()\n",
    "\n",
    "            # Оптимизация параметров\n",
    "            optimizer.step()\n",
    "\n",
    "            total_loss += loss.item()\n",
    "\n",
    "        print(f'Epoch [{epoch+1}/{num_epochs}], Loss: {total_loss/len(train_loader):.4f}')"
   ]
  },
  {
   "cell_type": "code",
   "execution_count": 49,
   "id": "f7c00cb5-5312-42c6-a89c-d47054d1aeb4",
   "metadata": {},
   "outputs": [],
   "source": [
    "# Оценка модели\n",
    "def evaluate_model(model, val_loader, criterion):\n",
    "    model.eval()\n",
    "    val_loss = 0\n",
    "    correct = 0\n",
    "    total = 0\n",
    "\n",
    "    with torch.no_grad():\n",
    "        for texts, labels in val_loader:\n",
    "            # Преобразуем текстовые данные в последовательности индексов и добавляем padding\n",
    "            tokenized_texts = [torch.tensor([vocab.get(word, vocab['<unk>']) for word in text.split()]) for text in texts]\n",
    "            texts = pad_sequence(tokenized_texts, batch_first=True, padding_value=vocab['<pad>'])\n",
    "\n",
    "            # Приводим тензоры к типу Long\n",
    "            texts = texts.long()\n",
    "\n",
    "            outputs = model(texts)\n",
    "            loss = criterion(outputs, labels.long())\n",
    "            val_loss += loss.item()\n",
    "\n",
    "            # Получаем предсказания\n",
    "            _, predicted = torch.max(outputs, 1)\n",
    "            total += labels.size(0)\n",
    "            correct += (predicted == labels).sum().item()\n",
    "\n",
    "    accuracy = correct / total\n",
    "    print(f'Validation Loss: {val_loss/len(val_loader):.4f}, Accuracy: {accuracy:.4f}')\n",
    "\n"
   ]
  },
  {
   "cell_type": "code",
   "execution_count": 50,
   "id": "da144b68-c895-48ce-b48d-c2fcf42bd389",
   "metadata": {},
   "outputs": [
    {
     "name": "stdout",
     "output_type": "stream",
     "text": [
      "Epoch [1/10], Loss: 1.2767\n",
      "Epoch [2/10], Loss: 1.0070\n",
      "Epoch [3/10], Loss: 0.8587\n",
      "Epoch [4/10], Loss: 0.7688\n",
      "Epoch [5/10], Loss: 0.6824\n",
      "Epoch [6/10], Loss: 0.6056\n",
      "Epoch [7/10], Loss: 0.5380\n",
      "Epoch [8/10], Loss: 0.4710\n",
      "Epoch [9/10], Loss: 0.4051\n",
      "Epoch [10/10], Loss: 0.3531\n"
     ]
    }
   ],
   "source": [
    "# Обучение модели\n",
    "train_model(model, train_loader, criterion, optimizer, num_epochs=10)"
   ]
  },
  {
   "cell_type": "code",
   "execution_count": 51,
   "id": "3443247f-3de5-418b-a53b-05a4b07b74e1",
   "metadata": {},
   "outputs": [
    {
     "name": "stdout",
     "output_type": "stream",
     "text": [
      "Validation Loss: 0.9992, Accuracy: 0.7024\n"
     ]
    }
   ],
   "source": [
    "# Оценка модели на валидационной выборке\n",
    "evaluate_model(model, valid_loader, criterion)"
   ]
  },
  {
   "cell_type": "markdown",
   "id": "e170f9e0-61f5-4945-899e-ba4fc6f20c9d",
   "metadata": {},
   "source": [
    "## **Итоговый вывод по GRU-моделям:**\n",
    "\n",
    "Мы достигли целевой точности 70.24% на валидационной выборке, что является значительным улучшением по сравнению с предыдущими результатами. Это показывает, что наши изменения — уменьшение количества слоев GRU до 2, увеличение Dropout до 0.6 и добавление L2-регуляризации — помогли улучшить обобщающую способность модели и предотвратить переобучение.\n",
    "\n",
    "По сравнению с предыдущей моделью GRU, здесь мы снизили сложность сети, что позволило модели лучше обрабатывать данные и эффективнее обучаться. В результате, несмотря на чуть более медленное снижение лосса на тренировочной выборке, модель показала более стабильные результаты на валидационных данных.\n",
    "\n",
    "На этом этапе мы можем с уверенностью сказать, что цели по выполнению данного домашнего задания на максимум баллов успешно достигнуты ! Ура!!!"
   ]
  },
  {
   "cell_type": "code",
   "execution_count": null,
   "id": "049efc0b-a383-4fbc-a433-a7d320c3b100",
   "metadata": {},
   "outputs": [],
   "source": []
  },
  {
   "cell_type": "code",
   "execution_count": null,
   "id": "fcac65c8-3aa4-42f1-be75-a6bf68225844",
   "metadata": {},
   "outputs": [],
   "source": []
  }
 ],
 "metadata": {
  "kernelspec": {
   "display_name": "Python 3 (ipykernel)",
   "language": "python",
   "name": "python3"
  },
  "language_info": {
   "codemirror_mode": {
    "name": "ipython",
    "version": 3
   },
   "file_extension": ".py",
   "mimetype": "text/x-python",
   "name": "python",
   "nbconvert_exporter": "python",
   "pygments_lexer": "ipython3",
   "version": "3.9.19"
  }
 },
 "nbformat": 4,
 "nbformat_minor": 5
}
